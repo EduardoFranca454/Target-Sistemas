{
 "cells": [
  {
   "cell_type": "markdown",
   "id": "5d9cf840",
   "metadata": {},
   "source": [
    "1) Dado a sequência de Fibonacci, onde se inicia por 0 e 1 e o próximo valor sempre será a soma dos 2 valores anteriores (exemplo: 0, 1, 1, 2, 3, 5, 8, 13, 21, 34...), escreva um programa na linguagem que desejar onde, informado um número, ele calcule a sequência de Fibonacci e retorne uma mensagem avisando se o número informado pertence ou não a sequência.\n",
    "\n",
    "IMPORTANTE: Esse número pode ser informado através de qualquer entrada de sua preferência ou pode ser previamente definido no código;"
   ]
  },
  {
   "cell_type": "code",
   "execution_count": 70,
   "id": "d17fa711",
   "metadata": {},
   "outputs": [
    {
     "name": "stdout",
     "output_type": "stream",
     "text": [
      "Informe um número: 514229\n",
      "O número 514,229 pertence à Sequência de Fibonacci.\n"
     ]
    }
   ],
   "source": [
    "# Variáveis Auxiliares.\n",
    "lista_auxiliar = [0, 1]\n",
    "i = 0\n",
    "\n",
    "valor_informado = int(input('Informe um número: '))\n",
    "\n",
    "# Essa condição no while tem o intuito de fazer o looping não rodar desnecessariamente, ou seja, quando a sequência de Fibonacci passar pelo número informado, já conseguimos saber se o valor informado está contido na sequência ou não.   \n",
    "while valor_informado > max(lista_auxiliar):\n",
    "    lista_auxiliar.append(lista_auxiliar[i] + lista_auxiliar[i+1])\n",
    "    i += 1\n",
    "\n",
    "# Verificando se o valor informado está contido na sequência de Fibonacci.\n",
    "if valor_informado in lista_auxiliar:\n",
    "    print(f'O número {valor_informado:,} pertence à Sequência de Fibonacci.')\n",
    "else:\n",
    "    print(f'O número {valor_informado:,} não pertence à Sequência de Fibonacci.')\n"
   ]
  },
  {
   "cell_type": "markdown",
   "id": "4afb434c",
   "metadata": {},
   "source": [
    "2) Escreva um programa que verifique, em uma string, a existência da letra ‘a’, seja maiúscula ou minúscula, além de informar a quantidade de vezes em que ela ocorre.\n",
    "\n",
    "IMPORTANTE: Essa string pode ser informada através de qualquer entrada de sua preferência ou pode ser previamente definida no código;"
   ]
  },
  {
   "cell_type": "code",
   "execution_count": 98,
   "id": "2a3455e2",
   "metadata": {},
   "outputs": [
    {
     "name": "stdout",
     "output_type": "stream",
     "text": [
      "Informe um texto: BanAnA\n",
      "O texto: \"BanAnA\", possui 3 letras \"a\".\n"
     ]
    }
   ],
   "source": [
    "texto_informado = input('Informe um texto: ')\n",
    "i = 0\n",
    "\n",
    "# Loop para contabilzar quantas letras \"a\" o texto possui.\n",
    "for item in texto_informado:\n",
    "    if 'a' in item or 'A' in item:\n",
    "        i += 1\n",
    "        \n",
    "#Tratamento para deixar a resposta mais coerente, de acordo com a quantidade de letras \"a\" que o texto possuir.        \n",
    "if i == 0:\n",
    "    print('O texto não contém a letra \"a\".')\n",
    "elif i == 1:\n",
    "    print(f'O texto: \"{texto_informado}\", possui {i} letra \"a\".')\n",
    "else:\n",
    "    print(f'O texto: \"{texto_informado}\", possui {i} letras \"a\".')"
   ]
  },
  {
   "cell_type": "markdown",
   "id": "6b146345",
   "metadata": {},
   "source": [
    "3) Observe o trecho de código abaixo: int INDICE = 12, SOMA = 0, K = 1; enquanto K < INDICE faça { K = K + 1; SOMA = SOMA + K; } imprimir(SOMA);\n",
    "\n",
    "Ao final do processamento, qual será o valor da variável SOMA?"
   ]
  },
  {
   "cell_type": "code",
   "execution_count": 112,
   "id": "15636f01",
   "metadata": {},
   "outputs": [
    {
     "name": "stdout",
     "output_type": "stream",
     "text": [
      "Ao final do processamento, o valor da variável \"soma\" foi de: 77.\n"
     ]
    }
   ],
   "source": [
    "indice = 12\n",
    "soma = 0\n",
    "k = 1\n",
    "\n",
    "while k < indice:\n",
    "    k += 1\n",
    "    soma +=  k\n",
    "print(f'Ao final do processamento, o valor da variável \"soma\" foi de: {soma}.')"
   ]
  },
  {
   "cell_type": "raw",
   "id": "32c05d55",
   "metadata": {},
   "source": [
    "4) Descubra a lógica e complete o próximo elemento:\n",
    "a) 1, 3, 5, 7, ___\n",
    "b) 2, 4, 8, 16, 32, 64, ____\n",
    "c) 0, 1, 4, 9, 16, 25, 36, ____\n",
    "d) 4, 16, 36, 64, ____\n",
    "e) 1, 1, 2, 3, 5, 8, ____\n",
    "f) 2,10, 12, 16, 17, 18, 19, ____\n"
   ]
  },
  {
   "cell_type": "raw",
   "id": "7dc81e5a",
   "metadata": {},
   "source": [
    "RESPOSTA:\n",
    "a) 1, 3, 5, 7, 9\n",
    "b) 2, 4, 8, 16, 32, 64, 128 \n",
    "c) 0, 1, 4, 9, 16, 25, 36, 49  \n",
    "d) 4, 16, 36, 64, 100\n",
    "e) 1, 1, 2, 3, 5, 8, 13\n",
    "f) 2,10, 12, 16, 17, 18, 19, 200"
   ]
  },
  {
   "cell_type": "markdown",
   "id": "570b9824",
   "metadata": {},
   "source": [
    "5) Você está em uma sala com três interruptores, cada um conectado a uma lâmpada em salas diferentes. Você não pode ver as lâmpadas da sala em que está, mas pode ligar e desligar os interruptores quantas vezes quiser. Seu objetivo é descobrir qual interruptor controla qual lâmpada. Como você faria para descobrir, usando apenas duas idas até uma das salas das lâmpadas, qual interruptor controla cada lâmpada? "
   ]
  },
  {
   "cell_type": "raw",
   "id": "4db75071",
   "metadata": {},
   "source": [
    "Para facilitar a explicação e compreensão, irei estabelecer nomenclaturas para as salas e para os interruptores. Determinei as salas indo de A até C (Sala A, Sala B e Sala C) e os interruptores indo de 1 até 3 (Interruptor 1, Interruptor 2, Interruptor 3).\n",
    "\n",
    "Irei dividir em duas possibilidades principais, e dentro dessas possibilidaes, irei criar subpossibilidaes.\n",
    "\n",
    "\n",
    "Partindo do princípio que:\n",
    "Ligando apenas os interruptores 1 e 2 e indo até a sala A:\n",
    "\n",
    "    1° possibilidade principal: Se a lâmpada da sala A estiver desligada, podemos determinar, por eliminatória, que o interruptor que controla essa determinada lâmpada é o 3, dessa forma, só nos resta descobrir a função dos outros dois interruptores. Então, voltaremos para a sala dos interruptores, desligaremos o interruptor 2, deixando assim, APENAS o interruptor 1 ligado e iremos até a sala B. Se chegarmos na sala B, e a lâmapada estiver acesa, podemos determinar que: Interruptor 1 - Sala B ; Interruptor 2 - Sala C ; Interruptor 3 - Sala A. Mas se, chegarmos na sala B e a lâmpada estiver apagada, podemos determinar que: Interruptor 1 - Sala C ; Interruptor 2 - Sala B  ; Interruptor 3 - Sala A. \n",
    "     \n",
    "     \n",
    "Partindo do princípio que:\n",
    "Ligando apenas os interruptores 1 e 2 e indo até a sala A:\n",
    "\n",
    "    2° possibilidade principal: Se a lâmpada da sala A estiver ligada, determinamos que o interruptor 3 não é o resposável pela sala A e determinamos que o responsável pela lâmpada da sala A, é o interruptor 1 ou 2. Dessa forma, voltaremos para a sala dos interruptores, desligaremos o interruptor 2, e ligaremos o interruptor 3, deixando assim, APENAS os inturroptores 1 e 3 ligados e iremos para a sala B. Se a lâmpada da sala B estiver desligada, poderemos determinar que: Interruptor 1 - Sala A; Interruptor 2 - Sala B  ; Interruptor 3 - Sala C. "
   ]
  }
 ],
 "metadata": {
  "kernelspec": {
   "display_name": "Python 3 (ipykernel)",
   "language": "python",
   "name": "python3"
  },
  "language_info": {
   "codemirror_mode": {
    "name": "ipython",
    "version": 3
   },
   "file_extension": ".py",
   "mimetype": "text/x-python",
   "name": "python",
   "nbconvert_exporter": "python",
   "pygments_lexer": "ipython3",
   "version": "3.11.5"
  }
 },
 "nbformat": 4,
 "nbformat_minor": 5
}
